{
 "cells": [
  {
   "cell_type": "code",
   "execution_count": 1,
   "metadata": {},
   "outputs": [],
   "source": [
    "import numpy as np\n",
    "import torch\n",
    "import torchvision\n",
    "import pandas as pd\n",
    "import matplotlib.pyplot as plt\n",
    "%matplotlib inline"
   ]
  },
  {
   "cell_type": "code",
   "execution_count": 2,
   "metadata": {},
   "outputs": [
    {
     "data": {
      "image/png": "[encoded data removed]",
      "text/plain": [
       "<Figure size 600x400 with 1 Axes>"
      ]
     },
     "metadata": {},
     "output_type": "display_data"
    }
   ],
   "source": [
    "def f(x):\n",
    "    return x**2\n",
    "def df(x):\n",
    "    return 2*x\n",
    "\n",
    "xs=np.arange(-5,5,0.25)\n",
    "ys=f(xs)\n",
    "plt.figure(figsize=(6,4))\n",
    "plt.plot(xs,ys)\n",
    "plt.show()"
   ]
  },
  {
   "cell_type": "code",
   "execution_count": 3,
   "metadata": {},
   "outputs": [
    {
     "name": "stdout",
     "output_type": "stream",
     "text": [
      "value of x : 2.99400\n",
      "value of x : 2.45079\n",
      "value of x : 2.00613\n",
      "value of x : 1.64216\n",
      "value of x : 1.34421\n",
      "value of x : 1.10033\n",
      "value of x : 0.90069\n",
      "value of x : 0.73728\n",
      "value of x : 0.60351\n",
      "value of x : 0.49401\n"
     ]
    },
    {
     "data": {
      "text/plain": [
       "'value of x : 0.4051936'"
      ]
     },
     "execution_count": 3,
     "metadata": {},
     "output_type": "execute_result"
    }
   ],
   "source": [
    "def gradient_descent(x,learning_rate):\n",
    "    for i in range(1000):\n",
    "        dx=df(x)\n",
    "        x=x-learning_rate*dx\n",
    "        if i % 100==0:\n",
    "            print(f\"value of x : {x:.5f}\")\n",
    "    return f\"value of x : {x:.7f}\"\n",
    "\n",
    "gradient_descent(3,0.001)"
   ]
  },
  {
   "cell_type": "code",
   "execution_count": 4,
   "metadata": {},
   "outputs": [
    {
     "name": "stdout",
     "output_type": "stream",
     "text": [
      "hello world!\n",
      "[('a', 1), ('b', 2), ('c', 3)]\n",
      "0 apple\n",
      "1 bananna\n",
      "2 cherry\n"
     ]
    }
   ],
   "source": [
    "print(\"hello world!\")\n",
    "list1=['a','b','c']\n",
    "list2=[1,2,3]\n",
    "result=zip(list1,list2)\n",
    "print(list(result))\n",
    "\n",
    "fruits=['apple','bananna','cherry']\n",
    "for index,fruit in enumerate(fruits):\n",
    "    print(index,fruit)"
   ]
  },
  {
   "cell_type": "code",
   "execution_count": 5,
   "metadata": {},
   "outputs": [
    {
     "data": {
      "text/plain": [
       "['emma',\n",
       " 'olivia',\n",
       " 'ava',\n",
       " 'isabella',\n",
       " 'sophia',\n",
       " 'charlotte',\n",
       " 'mia',\n",
       " 'amelia',\n",
       " 'harper',\n",
       " 'evelyn']"
      ]
     },
     "execution_count": 5,
     "metadata": {},
     "output_type": "execute_result"
    }
   ],
   "source": [
    "words=open(\"names.txt\",'r').read().splitlines()\n",
    "words[:10]"
   ]
  },
  {
   "cell_type": "code",
   "execution_count": 6,
   "metadata": {},
   "outputs": [
    {
     "name": "stdout",
     "output_type": "stream",
     "text": [
      "2\n",
      "15\n"
     ]
    }
   ],
   "source": [
    "print(min(len(w) for w in words))\n",
    "print(max(len(w) for w in words))\n"
   ]
  },
  {
   "cell_type": "code",
   "execution_count": 7,
   "metadata": {},
   "outputs": [],
   "source": [
    "b={}\n",
    "for w in words[:]:\n",
    "    chs=['<S>']+list(w)+['<E>']\n",
    "    for ch1,ch2 in zip(chs,chs[1:]):\n",
    "        bigram=(ch1,ch2)\n",
    "        b[bigram]=b.get(bigram,0)+1"
   ]
  },
  {
   "cell_type": "code",
   "execution_count": 17,
   "metadata": {},
   "outputs": [],
   "source": [
    "sorted_list=sorted(b.items(),key=lambda kv:-kv[1])"
   ]
  },
  {
   "cell_type": "code",
   "execution_count": 16,
   "metadata": {},
   "outputs": [],
   "source": [
    "chars=sorted(list(set(''.join(words))))"
   ]
  },
  {
   "cell_type": "code",
   "execution_count": 10,
   "metadata": {},
   "outputs": [],
   "source": [
    "N=torch.zeros((28,28),dtype=torch.int32)"
   ]
  }
 ],
 "metadata": {
  "kernelspec": {
   "display_name": ".venv",
   "language": "python",
   "name": "python3"
  },
  "language_info": {
   "codemirror_mode": {
    "name": "ipython",
    "version": 3
   },
   "file_extension": ".py",
   "mimetype": "text/x-python",
   "name": "python",
   "nbconvert_exporter": "python",
   "pygments_lexer": "ipython3",
   "version": "3.12.6"
  }
 },
 "nbformat": 4,
 "nbformat_minor": 2
}
